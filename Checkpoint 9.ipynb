{
 "cells": [
  {
   "cell_type": "code",
   "execution_count": 2,
   "id": "c905fb25",
   "metadata": {
    "scrolled": true
   },
   "outputs": [
    {
     "name": "stdout",
     "output_type": "stream",
     "text": [
      "Number of words in this file is :  100\n",
      "Please enter the number of lines you want to read : 6\n",
      "Please select 'F' for first lines or 'L' for last lines : L\n",
      "What is Python language?                                                \n",
      "Python is a widely used high-level, general-purpose, interpreted, dynamic programming language.Its design philosophy emphasizes code readability, and its syntax allows programmers to express concepts in fewer lines of code than possible in \n",
      "languages such as C++ or Java. \n",
      "Python supports multiple programming paradigms, including object-oriented, imperative and functional programming or procedural styles. It features a dynamic type system and automatic memory management and has a large and comprehensive standard library.The best way we learn anything is by practice and exercise questions. We  have started this section for those (beginner to intermediate) who are familiar with Python."
     ]
    }
   ],
   "source": [
    "file = open(\"C:/Users/HP/Desktop/python.txt\",'r',encoding = 'utf-8')\n",
    "hfile=[]\n",
    "nwords=0\n",
    "for lines in file:\n",
    "        hfile.append(lines)\n",
    "        for word in lines.split():          \n",
    "            nwords=nwords+1\n",
    "print(\"Number of words in this file is : \" ,nwords)\n",
    "el=int(input(\"Please enter the number of lines you want to read : \"))\n",
    "ch=input(\"Please select 'F' for first lines or 'L' for last lines : \")\n",
    "if el<len(hfile):\n",
    "    if ch==\"F\":\n",
    "        st=0\n",
    "        stp=el\n",
    "    else:\n",
    "        st=len(hfile)-el\n",
    "        stp=len(hfile)\n",
    "else:\n",
    "    st=0\n",
    "    stp=len(hfile)\n",
    "for flp in range(st,stp):\n",
    "    print(hfile[flp], end = '')      "
   ]
  },
  {
   "cell_type": "code",
   "execution_count": null,
   "id": "ebf67aa0",
   "metadata": {},
   "outputs": [],
   "source": []
  }
 ],
 "metadata": {
  "kernelspec": {
   "display_name": "Python 3 (ipykernel)",
   "language": "python",
   "name": "python3"
  },
  "language_info": {
   "codemirror_mode": {
    "name": "ipython",
    "version": 3
   },
   "file_extension": ".py",
   "mimetype": "text/x-python",
   "name": "python",
   "nbconvert_exporter": "python",
   "pygments_lexer": "ipython3",
   "version": "3.10.9"
  }
 },
 "nbformat": 4,
 "nbformat_minor": 5
}
