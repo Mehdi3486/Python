{
 "cells": [
  {
   "cell_type": "code",
   "execution_count": 5,
   "id": "bc25534d",
   "metadata": {},
   "outputs": [],
   "source": [
    "from tkinter import *\n",
    "window=Tk()\n",
    "window.title(\"Converter from Fahrenheit to Celsius\")\n",
    "window.geometry(\"400x100\")\n",
    "window.resizable(height=False,width=False)\n",
    "window.configure(bg='blue')\n",
    "fram1=Frame(window,bg='blue')\n",
    "fram1.grid(row=1,column=0)\n",
    "fram2=Frame(window,bg='blue')\n",
    "fram2.grid(row=2,column=0)\n",
    "enterlab = Label(fram1,text=\"Please enter the value in F°\",foreground=\"black\",width=40,height=2,font=(\"Times New Roman\",10),bg='blue')\n",
    "enterlab.grid(row=1,column=0)\n",
    "def F_to_C():\n",
    "    txt=\"\"\n",
    "    try:\n",
    "        fer=float(entry.get())\n",
    "        celc=str((5/9)*(fer-32))\n",
    "        txt=celc+' '+'C°'\n",
    "        ferlab.configure(text=txt,foreground=\"black\",font=(\"Times New Roman\",10,'bold'))\n",
    "    except ValueError:\n",
    "        txt=\"Please enter a valid number !\"\n",
    "        ferlab.configure(text=txt,foreground=\"red\",font=(\"Times New Roman\",10,'bold'))\n",
    "ferlab = Label(fram2,text=\"\",foreground=\"red\",width=40,height=2,font=(\"Times New Roman\",10),bg='blue')\n",
    "ferlab.grid(row=2,column=0)\n",
    "entry=Entry(fram1,bg='white',bd=2,fg='blue',font=(\"Times New Roman\",10),width=10)\n",
    "entry.grid(row=1,column=1)\n",
    "button = Button(fram2,text=\"Convert\",width=10,height=1,bg=\"grey\",fg=\"black\",font=(\"Times New Roman\",10),command=F_to_C)\n",
    "button.grid(row=2,column=1)\n",
    "window.mainloop()"
   ]
  }
 ],
 "metadata": {
  "kernelspec": {
   "display_name": "Python 3 (ipykernel)",
   "language": "python",
   "name": "python3"
  },
  "language_info": {
   "codemirror_mode": {
    "name": "ipython",
    "version": 3
   },
   "file_extension": ".py",
   "mimetype": "text/x-python",
   "name": "python",
   "nbconvert_exporter": "python",
   "pygments_lexer": "ipython3",
   "version": "3.10.9"
  }
 },
 "nbformat": 4,
 "nbformat_minor": 5
}
