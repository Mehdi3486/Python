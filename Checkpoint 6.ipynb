{
 "cells": [
  {
   "cell_type": "code",
   "execution_count": 34,
   "id": "67678e6a",
   "metadata": {},
   "outputs": [
    {
     "name": "stdout",
     "output_type": "stream",
     "text": [
      "Please enter the number of students : 2\n",
      "please enter the number of subjects :2\n",
      "please enter the mark for student 0subject 0 : 5\n",
      "please enter the mark for student 0subject 1 : 5\n",
      "please enter the mark for student 1subject 0 : 10\n",
      "please enter the mark for student 1subject 1 : 10\n",
      "please enter the name for the student 0 : mm\n",
      "please enter the name for the student 1 : jj\n",
      "[[ 5  5]\n",
      " [10 10]]\n",
      "[['mm' '10' '50.0' 'C']\n",
      " ['jj' '20' '100.0' 'A+']]\n"
     ]
    }
   ],
   "source": [
    "import numpy as np\n",
    "a=int(input(\"Please enter the number of students : \"))\n",
    "b=int(input(\"please enter the number of subjects :\"))\n",
    "list1=[]\n",
    "list2=[]\n",
    "c=0\n",
    "som=0\n",
    "w=0\n",
    "for i in range (a):\n",
    "    for j in range (b):\n",
    "        value=int(input(\"please enter the mark for student \"+str(i)+\"subject \"+str(j)+\" : \"))\n",
    "        list1.insert(c,value)\n",
    "        c=c+1\n",
    "create_array=np.array([list1])\n",
    "student_array = create_array.reshape(a,b)\n",
    "for k in range (a):\n",
    "    name=input(\"please enter the name for the student \"+str(k)+\" : \")\n",
    "    list2.insert(w,name)\n",
    "    for l in range (b):\n",
    "        som=student_array[k,l]+som\n",
    "        perc=((som / b)/10)*100\n",
    "    w=w+1\n",
    "    list2.insert(w,som)\n",
    "    w=w+1\n",
    "    list2.insert(w,perc)\n",
    "    w=w+1\n",
    "    if perc>=90:\n",
    "        res='A+'\n",
    "    elif perc<90 and perc>=80:\n",
    "        res='A'\n",
    "    elif perc<80 and perc>=70:\n",
    "        res='B+'\n",
    "    elif perc<70 and perc>=60:\n",
    "        res='B'\n",
    "    elif perc<60 and perc>=50:\n",
    "        res='C'\n",
    "    else:\n",
    "        res='F'\n",
    "    list2.insert(w,res)\n",
    "    w=w+1\n",
    "    som=0\n",
    "    perc=0\n",
    "final_array=np.array([list2]) \n",
    "show_array = final_array.reshape(a,b+2)\n",
    "print(student_array)\n",
    "print(show_array)\n",
    "w=w+1\n",
    "                        "
   ]
  },
  {
   "cell_type": "code",
   "execution_count": null,
   "id": "7e5ee4c1",
   "metadata": {},
   "outputs": [],
   "source": []
  },
  {
   "cell_type": "code",
   "execution_count": null,
   "id": "c95bfd70",
   "metadata": {},
   "outputs": [],
   "source": []
  }
 ],
 "metadata": {
  "kernelspec": {
   "display_name": "Python 3 (ipykernel)",
   "language": "python",
   "name": "python3"
  },
  "language_info": {
   "codemirror_mode": {
    "name": "ipython",
    "version": 3
   },
   "file_extension": ".py",
   "mimetype": "text/x-python",
   "name": "python",
   "nbconvert_exporter": "python",
   "pygments_lexer": "ipython3",
   "version": "3.10.9"
  }
 },
 "nbformat": 4,
 "nbformat_minor": 5
}
