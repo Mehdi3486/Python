{
 "cells": [
  {
   "cell_type": "code",
   "execution_count": 5,
   "id": "a153e42f",
   "metadata": {},
   "outputs": [
    {
     "name": "stdout",
     "output_type": "stream",
     "text": [
      "Welcome to guess game ! please enter the range lower value : 2\n",
      "Welcome to guess game ! please enter the range Higher value : 6\n",
      "Can you guess the right number? let s give it a try enter a number between 2 and 6 : 2\n",
      "Your guess is too low\n",
      "Give it up already? Guess again! enter a number between 2 and 6 : 6\n",
      "Your guess is too hight\n",
      "Give it up already? Guess again! enter a number between 2 and 6 : 5\n",
      "Your guess is too hight\n",
      "Give it up already? Guess again! enter a number between 2 and 6 : 4\n",
      "Your guess is too hight\n",
      "Give it up already? Guess again! enter a number between 2 and 6 : 3\n",
      "Congratulations! You guessed the number correctly!\n"
     ]
    }
   ],
   "source": [
    "#Checkpoint guess game\n",
    "a=int(input('Welcome to guess game ! please enter the range lower value : '))\n",
    "b=int(input('Welcome to guess game ! please enter the range Higher value : '))\n",
    "c=str(a)\n",
    "d=str(b)\n",
    "import random\n",
    "ron=random.randint(a,b)\n",
    "def rand():\n",
    "    if g<ron:\n",
    "        print('Your guess is too low')\n",
    "    elif g>ron:\n",
    "        print('Your guess is too hight')\n",
    "    else:\n",
    "        print('Congratulations! You guessed the number correctly!')\n",
    "g=int(input('Can you guess the right number? let s give it a try enter a number between '+c+' and '+d+' : '))\n",
    "rand()\n",
    "while g!=ron:\n",
    "    g=int(input('Give it up already? Guess again! enter a number between '+c+' and '+d+' : '))\n",
    "    rand()"
   ]
  },
  {
   "cell_type": "code",
   "execution_count": null,
   "id": "0a75a3b1",
   "metadata": {},
   "outputs": [],
   "source": []
  },
  {
   "cell_type": "code",
   "execution_count": null,
   "id": "2d0f444e",
   "metadata": {},
   "outputs": [],
   "source": []
  },
  {
   "cell_type": "code",
   "execution_count": null,
   "id": "84d13fe5",
   "metadata": {},
   "outputs": [],
   "source": []
  }
 ],
 "metadata": {
  "celltoolbar": "Slideshow",
  "kernelspec": {
   "display_name": "Python 3 (ipykernel)",
   "language": "python",
   "name": "python3"
  },
  "language_info": {
   "codemirror_mode": {
    "name": "ipython",
    "version": 3
   },
   "file_extension": ".py",
   "mimetype": "text/x-python",
   "name": "python",
   "nbconvert_exporter": "python",
   "pygments_lexer": "ipython3",
   "version": "3.10.9"
  }
 },
 "nbformat": 4,
 "nbformat_minor": 5
}
