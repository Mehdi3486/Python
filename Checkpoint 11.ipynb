{
 "cells": [
  {
   "cell_type": "code",
   "execution_count": 1,
   "id": "290f3e98",
   "metadata": {},
   "outputs": [
    {
     "data": {
      "text/plain": [
       "'hello'"
      ]
     },
     "execution_count": 1,
     "metadata": {},
     "output_type": "execute_result"
    }
   ],
   "source": [
    "#index error\n",
    "mylist=[14, \"hello\", 967]\n",
    "#mylist[6]\n",
    "mylist[1]"
   ]
  },
  {
   "cell_type": "code",
   "execution_count": 4,
   "id": "8d01be6e",
   "metadata": {},
   "outputs": [],
   "source": [
    "#index error\n",
    "#import Pandas\n",
    "import pandas\n",
    "#import NumPy\n",
    "import numpy"
   ]
  },
  {
   "cell_type": "code",
   "execution_count": 6,
   "id": "4f0bdc3d",
   "metadata": {},
   "outputs": [
    {
     "name": "stdout",
     "output_type": "stream",
     "text": [
      "python errors\n"
     ]
    }
   ],
   "source": [
    "#syntax error\n",
    "#Print\"python errors\"\n",
    "print(\"python errors\")"
   ]
  },
  {
   "cell_type": "code",
   "execution_count": 7,
   "id": "e331ec51",
   "metadata": {},
   "outputs": [
    {
     "data": {
      "text/plain": [
       "'hello'"
      ]
     },
     "execution_count": 7,
     "metadata": {},
     "output_type": "execute_result"
    }
   ],
   "source": [
    "#key error\n",
    "#mydictionnary={True:\"hello\",False:\"bye\", '3':\"python\"}\n",
    "mydictionnary={'True':\"hello\",'False':\"bye\", '3':\"python\"}\n",
    "mydictionnary['True']"
   ]
  },
  {
   "cell_type": "code",
   "execution_count": 8,
   "id": "da404a5b",
   "metadata": {},
   "outputs": [
    {
     "name": "stdout",
     "output_type": "stream",
     "text": [
      "14\n",
      "15\n",
      "16\n",
      "17\n",
      "18\n",
      "19\n",
      "20\n",
      "21\n",
      "22\n",
      "23\n",
      "24\n",
      "25\n",
      "26\n",
      "27\n",
      "28\n",
      "29\n",
      "30\n",
      "31\n",
      "32\n",
      "33\n",
      "34\n",
      "35\n",
      "36\n",
      "37\n",
      "38\n",
      "39\n",
      "40\n",
      "41\n",
      "42\n",
      "43\n",
      "44\n",
      "45\n",
      "46\n",
      "47\n",
      "48\n",
      "49\n",
      "50\n",
      "51\n",
      "52\n",
      "53\n",
      "54\n",
      "55\n",
      "56\n",
      "57\n",
      "58\n",
      "59\n",
      "60\n",
      "61\n",
      "62\n",
      "63\n",
      "64\n",
      "65\n",
      "66\n",
      "67\n",
      "68\n",
      "69\n",
      "70\n",
      "71\n",
      "72\n",
      "73\n",
      "74\n",
      "75\n",
      "76\n",
      "77\n"
     ]
    }
   ],
   "source": [
    "#indentation error\n",
    "i=14\n",
    "while i<78:\n",
    "#print(i)\n",
    "#i+=1\n",
    "    print(i)\n",
    "    i+=1"
   ]
  },
  {
   "cell_type": "code",
   "execution_count": 9,
   "id": "40a85421",
   "metadata": {},
   "outputs": [
    {
     "data": {
      "text/plain": [
       "3"
      ]
     },
     "execution_count": 9,
     "metadata": {},
     "output_type": "execute_result"
    }
   ],
   "source": [
    "#StopIteration\n",
    "it=iter([1,2,3])\n",
    "next(it)\n",
    "next(it)\n",
    "next(it)\n",
    "#next(it)"
   ]
  },
  {
   "cell_type": "code",
   "execution_count": 10,
   "id": "f74631c0",
   "metadata": {},
   "outputs": [
    {
     "data": {
      "text/plain": [
       "'1515'"
      ]
     },
     "execution_count": 10,
     "metadata": {},
     "output_type": "execute_result"
    }
   ],
   "source": [
    "#TypeError\n",
    "#'15'+15\n",
    "'15'+'15'"
   ]
  },
  {
   "cell_type": "code",
   "execution_count": 11,
   "id": "91d0af56",
   "metadata": {},
   "outputs": [
    {
     "data": {
      "text/plain": [
       "15"
      ]
     },
     "execution_count": 11,
     "metadata": {},
     "output_type": "execute_result"
    }
   ],
   "source": [
    "#ValueError\n",
    "#int('python')\n",
    "int('15')"
   ]
  },
  {
   "cell_type": "code",
   "execution_count": 12,
   "id": "1c8bc838",
   "metadata": {},
   "outputs": [
    {
     "data": {
      "text/plain": [
       "'python'"
      ]
     },
     "execution_count": 12,
     "metadata": {},
     "output_type": "execute_result"
    }
   ],
   "source": [
    "#NameError\n",
    "#python\n",
    "python='python'\n",
    "python"
   ]
  },
  {
   "cell_type": "code",
   "execution_count": 14,
   "id": "75a68a28",
   "metadata": {},
   "outputs": [
    {
     "data": {
      "text/plain": [
       "19.0"
      ]
     },
     "execution_count": 14,
     "metadata": {},
     "output_type": "execute_result"
    }
   ],
   "source": [
    "#ZeroDivisionError\n",
    "#x=19/0\n",
    "x=19/1\n",
    "x"
   ]
  },
  {
   "cell_type": "code",
   "execution_count": null,
   "id": "32daacb4",
   "metadata": {},
   "outputs": [],
   "source": []
  }
 ],
 "metadata": {
  "kernelspec": {
   "display_name": "Python 3 (ipykernel)",
   "language": "python",
   "name": "python3"
  },
  "language_info": {
   "codemirror_mode": {
    "name": "ipython",
    "version": 3
   },
   "file_extension": ".py",
   "mimetype": "text/x-python",
   "name": "python",
   "nbconvert_exporter": "python",
   "pygments_lexer": "ipython3",
   "version": "3.10.9"
  }
 },
 "nbformat": 4,
 "nbformat_minor": 5
}
