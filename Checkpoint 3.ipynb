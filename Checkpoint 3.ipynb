{
 "cells": [
  {
   "cell_type": "code",
   "execution_count": 6,
   "id": "124f34ef",
   "metadata": {},
   "outputs": [
    {
     "name": "stdout",
     "output_type": "stream",
     "text": [
      "36\n"
     ]
    }
   ],
   "source": [
    "list1= [2, 3, 6]\n",
    "x=1\n",
    "for i in range (len(list1)):\n",
    "    x=x*list1[i]\n",
    "print(x)    \n"
   ]
  },
  {
   "cell_type": "code",
   "execution_count": 10,
   "id": "82275d35",
   "metadata": {
    "scrolled": false
   },
   "outputs": [
    {
     "name": "stdout",
     "output_type": "stream",
     "text": [
      "[(2, 1), (1, 2), (2, 3), (4, 4), (2, 5)]\n"
     ]
    }
   ],
   "source": [
    "List = [(2, 5), (1, 2), (4, 4), (2, 3), (2, 1)]\n",
    "def tri(T):\n",
    "    e=T[1]\n",
    "    return (e)\n",
    "List.sort(key=tri)\n",
    "print(List)"
   ]
  },
  {
   "cell_type": "code",
   "execution_count": 5,
   "id": "486ab9c7",
   "metadata": {},
   "outputs": [
    {
     "name": "stdout",
     "output_type": "stream",
     "text": [
      "['VW', 'BMW', 'Ford', 'Mitsubishi']\n"
     ]
    }
   ],
   "source": [
    "def myFunc(e):\n",
    "    return len(e)\n",
    "cars = ['Ford', 'Mitsubishi', 'BMW', 'VW']\n",
    "cars.sort(key=myFunc)\n",
    "print(cars)"
   ]
  },
  {
   "cell_type": "code",
   "execution_count": 9,
   "id": "52ba0c69",
   "metadata": {},
   "outputs": [
    {
     "name": "stdout",
     "output_type": "stream",
     "text": [
      "[(2, 1), (1, 2), (2, 3), (4, 4), (2, 5)]\n"
     ]
    }
   ],
   "source": [
    "L = [(2, 5), (1, 2), (4, 4), (2, 3), (2, 1)]\n",
    "L.sort(key=lambda x:x[1])\n",
    "print(L)"
   ]
  },
  {
   "cell_type": "code",
   "execution_count": 14,
   "id": "842aff72",
   "metadata": {},
   "outputs": [
    {
     "name": "stdout",
     "output_type": "stream",
     "text": [
      "{'a': 400, 'b': 400, 'c': 300, 'd': 400}\n"
     ]
    }
   ],
   "source": [
    "d3={}\n",
    "d1 = {'a': 100, 'b': 200, 'c':300}\n",
    "d2 = {'a': 300, 'b': 200, 'd':400}\n",
    "for key in d1.keys():\n",
    "    if key in d2.keys():\n",
    "        d3[key]=d1[key]+d2[key]\n",
    "    else:\n",
    "        d3[key]=d1[key]\n",
    "for key in d2.keys():\n",
    "    if key not in d1.keys():\n",
    "        d3[key]=d2[key]\n",
    "print(d3)"
   ]
  },
  {
   "cell_type": "code",
   "execution_count": 21,
   "id": "e1104ef7",
   "metadata": {},
   "outputs": [
    {
     "name": "stdout",
     "output_type": "stream",
     "text": [
      "Enter the number : 3\n",
      "{1: 1, 2: 4, 3: 9}\n"
     ]
    }
   ],
   "source": [
    "E=int(input(\"Enter the number : \"))\n",
    "D={}\n",
    "for i in range (1,E+1):\n",
    "    D[i] = i*i \n",
    "print (D)"
   ]
  },
  {
   "cell_type": "code",
   "execution_count": 24,
   "id": "14d2acbd",
   "metadata": {},
   "outputs": [
    {
     "name": "stdout",
     "output_type": "stream",
     "text": [
      "[('item3', '24.5'), ('item2', '15.10'), ('item1', '12.20')]\n"
     ]
    }
   ],
   "source": [
    "M= [('item1', '12.20'), ('item2', '15.10'), ('item3', '24.5')]\n",
    "def r(W):\n",
    "    h=float(W[1])\n",
    "    return (h)\n",
    "M.sort(reverse=True,key=r)\n",
    "print(M)"
   ]
  },
  {
   "cell_type": "code",
   "execution_count": 27,
   "id": "bea235ae",
   "metadata": {},
   "outputs": [
    {
     "name": "stdout",
     "output_type": "stream",
     "text": [
      "[('item3', '24.5'), ('item2', '15.10'), ('item1', '12.20')]\n"
     ]
    }
   ],
   "source": [
    "N= [('item1', '12.20'), ('item2', '15.10'), ('item3', '24.5')]\n",
    "N.sort(reverse=True, key=lambda y:float(y[1]))\n",
    "print(N)"
   ]
  },
  {
   "cell_type": "code",
   "execution_count": null,
   "id": "9d380c11",
   "metadata": {
    "scrolled": true
   },
   "outputs": [
    {
     "name": "stdout",
     "output_type": "stream",
     "text": [
      "Enter the len of your set :1\n",
      "Enter the 1 number:2\n",
      "{2} 2 "
     ]
    }
   ],
   "source": [
    "my_set = set()\n",
    "k=int(input('Enter the len of your set :'))\n",
    "for h in range(k):\n",
    "    e=str(h+1)\n",
    "    g=int(input(\"Enter the \"+e+\" number:\"))\n",
    "    my_set.add(g)\n",
    "print(my_set,end=' ')\n",
    "def iter():\n",
    "    for q in my_set:\n",
    "        print (q,end=' ')\n",
    "iter()\n",
    "s=input(\"Press a to add or d to delete item from the set press any key to exit : \")\n",
    "x=10\n",
    "for t in range (0,x):\n",
    "    if s=='a'or (s=='d' and my_set==set()):\n",
    "        d=int(input(\"please enter te number you want to add : \"))\n",
    "        my_set.add(d)\n",
    "        print(\"your new set is : \",my_set,end=' ')\n",
    "        iter()\n",
    "        x=x+1\n",
    "        s=input(\"Press a to add or d to delete item from the set press any key to exit : \")\n",
    "    elif s=='d' and not my_set==set():\n",
    "        print (\"your set is : \",my_set,end=' ') \n",
    "        k=int(input(\"please enter the item you want to remove : \"))\n",
    "        my_set.remove(k)\n",
    "        print(\"your new set is : \",my_set,end=' ')\n",
    "        iter()\n",
    "        x=x+1\n",
    "        s=input(\"Press a to add or d to delete item from the set press any key to exit : \")\n",
    "    else:\n",
    "        quit()"
   ]
  },
  {
   "cell_type": "code",
   "execution_count": null,
   "id": "ef529555",
   "metadata": {},
   "outputs": [],
   "source": []
  },
  {
   "cell_type": "code",
   "execution_count": null,
   "id": "6e738e4d",
   "metadata": {},
   "outputs": [],
   "source": []
  }
 ],
 "metadata": {
  "kernelspec": {
   "display_name": "Python 3 (ipykernel)",
   "language": "python",
   "name": "python3"
  },
  "language_info": {
   "codemirror_mode": {
    "name": "ipython",
    "version": 3
   },
   "file_extension": ".py",
   "mimetype": "text/x-python",
   "name": "python",
   "nbconvert_exporter": "python",
   "pygments_lexer": "ipython3",
   "version": "3.10.9"
  }
 },
 "nbformat": 4,
 "nbformat_minor": 5
}
