{
 "cells": [
  {
   "cell_type": "code",
   "execution_count": 9,
   "id": "4b6542d7",
   "metadata": {},
   "outputs": [
    {
     "name": "stdout",
     "output_type": "stream",
     "text": [
      "        name  score  attempts qualify\n",
      "a  Anastasia   12.5         1     yes\n",
      "b       Dima    9.0         3      no\n",
      "c  Katherine   16.5         2     yes\n"
     ]
    }
   ],
   "source": [
    "#Exercice 1\n",
    "import pandas as pd\n",
    "import numpy as np\n",
    "exam_data = {'name': ['Anastasia', 'Dima', 'Katherine', 'James', 'Emily', 'Michael', 'Matthew', 'Laura', 'Kevin', 'Jonas'],\n",
    "'score': [12.5, 9, 16.5, np.nan, 9, 20, 14.5, np.nan, 8, 19],'attempts': [1, 3, 2, 3, 2, 3, 1, 1, 2, 1],\n",
    "'qualify': ['yes', 'no', 'yes', 'no', 'no', 'yes', 'yes', 'no', 'no', 'yes']}\n",
    "labels = ['a', 'b', 'c', 'd', 'e', 'f', 'g', 'h', 'i', 'j']\n",
    "df = pd.DataFrame(exam_data,index=labels)\n",
    "print(df.head(3))"
   ]
  },
  {
   "cell_type": "code",
   "execution_count": 10,
   "id": "8fc43b20",
   "metadata": {},
   "outputs": [
    {
     "name": "stdout",
     "output_type": "stream",
     "text": [
      "        name  score  attempts qualify\n",
      "a  Anastasia   12.5         1     yes\n",
      "b       Dima    9.0         3      no\n",
      "c  Katherine   16.5         2     yes\n",
      "e      Emily    9.0         2      no\n",
      "f    Michael   20.0         3     yes\n",
      "g    Matthew   14.5         1     yes\n",
      "i      Kevin    8.0         2      no\n",
      "j      Jonas   19.0         1     yes\n"
     ]
    }
   ],
   "source": [
    "#Exercice 2\n",
    "f=df.shape[0]\n",
    "n=f-2\n",
    "for i in range (n):\n",
    "    if pd.isna(df.score[i])==True:       \n",
    "        df=df.drop(df.index[i])\n",
    "        n=n-1      \n",
    "    else:\n",
    "        pass\n",
    "print(df)"
   ]
  },
  {
   "cell_type": "code",
   "execution_count": 11,
   "id": "b4aecaa9",
   "metadata": {},
   "outputs": [
    {
     "name": "stdout",
     "output_type": "stream",
     "text": [
      "        name  score\n",
      "a  Anastasia   12.5\n",
      "b       Dima    9.0\n",
      "c  Katherine   16.5\n",
      "e      Emily    9.0\n",
      "f    Michael   20.0\n",
      "g    Matthew   14.5\n",
      "i      Kevin    8.0\n",
      "j      Jonas   19.0\n"
     ]
    }
   ],
   "source": [
    "#Exercice 3\n",
    "df_n=df[[\"name\",\"score\"]]\n",
    "print(df_n)"
   ]
  },
  {
   "cell_type": "code",
   "execution_count": 12,
   "id": "e7c11250",
   "metadata": {
    "scrolled": true
   },
   "outputs": [
    {
     "name": "stdout",
     "output_type": "stream",
     "text": [
      "        name  score qualify\n",
      "a  Anastasia   12.5     yes\n",
      "b       Dima    9.0      no\n",
      "c  Katherine   16.5     yes\n",
      "e      Emily    9.0      no\n",
      "f    Michael   20.0     yes\n",
      "g    Matthew   14.5     yes\n",
      "i      Kevin    8.0      no\n",
      "j      Jonas   19.0     yes\n",
      "k     Suresh   15.5     yes\n"
     ]
    }
   ],
   "source": [
    "#Exercice 4\n",
    "new_dict = {'name': ['Suresh'],'score': [15.5],'attempts': [1],'qualify': ['yes']}\n",
    "df2= pd.DataFrame(new_dict,index=[\"k\"])\n",
    "df_T=pd.concat([df,df2])\n",
    "df_T\n",
    "df3=df_T.drop(\"attempts\", axis=1)\n",
    "print(df3)"
   ]
  },
  {
   "cell_type": "code",
   "execution_count": 13,
   "id": "b0c846b5",
   "metadata": {},
   "outputs": [
    {
     "name": "stdout",
     "output_type": "stream",
     "text": [
      "        name  score  attempts qualify  Success\n",
      "a  Anastasia   12.5         1     yes        1\n",
      "b       Dima    9.0         3      no        0\n",
      "c  Katherine   16.5         2     yes        1\n",
      "e      Emily    9.0         2      no        0\n",
      "f    Michael   20.0         3     yes        1\n",
      "g    Matthew   14.5         1     yes        1\n",
      "i      Kevin    8.0         2      no        0\n",
      "j      Jonas   19.0         1     yes        1\n",
      "k     Suresh   15.5         1     yes        1\n"
     ]
    }
   ],
   "source": [
    "#Exercice 5\n",
    "df_T.insert(4, \"Success\", [0,0,0,0,0,0,0,0,0], True)\n",
    "for e in range (df_T.shape[0]):\n",
    "    if df_T.iloc[e, 1] <10:\n",
    "        df_T.iloc[e, 4]= 0\n",
    "    else:\n",
    "        df_T.iloc[e, 4]= 1\n",
    "print(df_T)"
   ]
  },
  {
   "cell_type": "code",
   "execution_count": 14,
   "id": "9c3e5029",
   "metadata": {},
   "outputs": [],
   "source": [
    "#Exercice 6\n",
    "df_T.to_csv('score.csv')"
   ]
  },
  {
   "cell_type": "code",
   "execution_count": null,
   "id": "a38da738",
   "metadata": {},
   "outputs": [],
   "source": []
  },
  {
   "cell_type": "code",
   "execution_count": null,
   "id": "dd4eeac3",
   "metadata": {},
   "outputs": [],
   "source": []
  },
  {
   "cell_type": "code",
   "execution_count": null,
   "id": "a4c6d40a",
   "metadata": {},
   "outputs": [],
   "source": []
  },
  {
   "cell_type": "code",
   "execution_count": null,
   "id": "4c2ef1e8",
   "metadata": {},
   "outputs": [],
   "source": []
  },
  {
   "cell_type": "code",
   "execution_count": null,
   "id": "8da69e0e",
   "metadata": {},
   "outputs": [],
   "source": []
  },
  {
   "cell_type": "code",
   "execution_count": null,
   "id": "356ef12f",
   "metadata": {},
   "outputs": [],
   "source": []
  },
  {
   "cell_type": "code",
   "execution_count": null,
   "id": "bcf46cc7",
   "metadata": {},
   "outputs": [],
   "source": []
  }
 ],
 "metadata": {
  "kernelspec": {
   "display_name": "Python 3 (ipykernel)",
   "language": "python",
   "name": "python3"
  },
  "language_info": {
   "codemirror_mode": {
    "name": "ipython",
    "version": 3
   },
   "file_extension": ".py",
   "mimetype": "text/x-python",
   "name": "python",
   "nbconvert_exporter": "python",
   "pygments_lexer": "ipython3",
   "version": "3.10.9"
  }
 },
 "nbformat": 4,
 "nbformat_minor": 5
}
