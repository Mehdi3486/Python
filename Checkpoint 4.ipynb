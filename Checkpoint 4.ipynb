{
 "cells": [
  {
   "cell_type": "code",
   "execution_count": 2,
   "id": "e71b8f25",
   "metadata": {
    "scrolled": true
   },
   "outputs": [
    {
     "name": "stdout",
     "output_type": "stream",
     "text": [
      "Please enter the first number : 1\n",
      "Please enter the second number : 0\n",
      "Please select the operation you want to execute by entering one of these operators ' +, -, *, / ' : /\n",
      "Please enter a number other than 0 for the second number : 5\n",
      "The result is: 0.2\n"
     ]
    }
   ],
   "source": [
    "def calculator(num1,num2):\n",
    "    d=input (\"Please select the operation you want to execute by entering one of these operators ' +, -, *, / ' : \")\n",
    "    while d not in [\"+\" ,\"-\" ,\"*\" ,\"/\"]:\n",
    "        print (\"Please enter a valid value !\")\n",
    "    if d==\"+\":\n",
    "        res=num1+num2\n",
    "    elif d==\"-\":\n",
    "        res=num1-num2\n",
    "    elif d==\"/\":\n",
    "        while num2==0:\n",
    "            num2=float(input(\"Please enter a number other than 0 for the second number : \"))\n",
    "        res=num1/num2\n",
    "    else:\n",
    "        res=num1*num2\n",
    "    return res\n",
    "num1=float(input(\"Please enter the first number : \"))\n",
    "num2=float(input(\"Please enter the second number : \"))\n",
    "print('The result is: '+ str (calculator(num1,num2)))\n",
    "\n"
   ]
  },
  {
   "cell_type": "code",
   "execution_count": null,
   "id": "bd9c829d",
   "metadata": {},
   "outputs": [],
   "source": [
    "\n"
   ]
  },
  {
   "cell_type": "code",
   "execution_count": null,
   "id": "9d6eb997",
   "metadata": {},
   "outputs": [],
   "source": []
  }
 ],
 "metadata": {
  "kernelspec": {
   "display_name": "Python 3 (ipykernel)",
   "language": "python",
   "name": "python3"
  },
  "language_info": {
   "codemirror_mode": {
    "name": "ipython",
    "version": 3
   },
   "file_extension": ".py",
   "mimetype": "text/x-python",
   "name": "python",
   "nbconvert_exporter": "python",
   "pygments_lexer": "ipython3",
   "version": "3.10.9"
  }
 },
 "nbformat": 4,
 "nbformat_minor": 5
}
