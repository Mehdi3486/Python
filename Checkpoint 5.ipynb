{
 "cells": [
  {
   "cell_type": "code",
   "execution_count": 9,
   "id": "f7089dfe",
   "metadata": {},
   "outputs": [
    {
     "data": {
      "text/plain": [
       "1,2,3"
      ]
     },
     "execution_count": 9,
     "metadata": {},
     "output_type": "execute_result"
    }
   ],
   "source": [
    "class Point3D:\n",
    "    def __init__(self,X,Y,Z):\n",
    "        self.x=X\n",
    "        self.y=Y\n",
    "        self.z=Z\n",
    "    def __repr__(self):\n",
    "        return f\"{self.x},{self.y},{self.z}\"\n",
    "my_point=Point3D(1,2,3)\n",
    "my_point"
   ]
  },
  {
   "cell_type": "code",
   "execution_count": 12,
   "id": "06b7ddb4",
   "metadata": {},
   "outputs": [
    {
     "data": {
      "text/plain": [
       "area is : 12 ,perimetre is :14 "
      ]
     },
     "execution_count": 12,
     "metadata": {},
     "output_type": "execute_result"
    }
   ],
   "source": [
    "class rectangle:\n",
    "    def __init__(self,lengh,width):\n",
    "        self.x=lengh\n",
    "        self.y=width\n",
    "    def __repr__(self):\n",
    "        return f\"area is : {self.x*self.y} ,perimetre is :{2*(self.x+self.y)} \"\n",
    "my_rectangle=rectangle(3,4) \n",
    "my_rectangle"
   ]
  },
  {
   "cell_type": "code",
   "execution_count": 7,
   "id": "37d1ba28",
   "metadata": {},
   "outputs": [
    {
     "data": {
      "text/plain": [
       "True"
      ]
     },
     "execution_count": 7,
     "metadata": {},
     "output_type": "execute_result"
    }
   ],
   "source": [
    "import math\n",
    "class circle:\n",
    "    def __init__(self,r,o=0):\n",
    "        self.r=r\n",
    "        self.o=o\n",
    "    def area(self):\n",
    "        area=self.r*2*math.pi\n",
    "    def is_inside(self,x,y):\n",
    "        dis=math.sqrt(x**2+y**2)\n",
    "        if dis > self.r:\n",
    "            return False\n",
    "        else:\n",
    "            return True\n",
    "my_circle=circle(2)\n",
    "my_circle.is_inside(0,1)\n",
    "        "
   ]
  },
  {
   "cell_type": "code",
   "execution_count": 4,
   "id": "d58f038c",
   "metadata": {},
   "outputs": [
    {
     "name": "stdout",
     "output_type": "stream",
     "text": [
      "Your balance is : 3000\n",
      "Your balance is : 1000\n",
      "You don't have enought money!\n",
      "Your balance is : 1000\n"
     ]
    }
   ],
   "source": [
    "class bank:\n",
    "    def __init__(self,balance):\n",
    "        self.balance=balance\n",
    "    def deposite(self,amount):\n",
    "        self.balance=self.balance+amount\n",
    "    def withrown(self,amount):\n",
    "        if self.balance<amount:\n",
    "            print (\"You don't have enought money!\")\n",
    "        else:\n",
    "            self.balance=self.balance-amount\n",
    "    def show(self):\n",
    "        return f\"Your balance is : {self.balance}\"\n",
    "count1=bank(2000)\n",
    "count1.deposite(1000)\n",
    "print(count1.show())\n",
    "count1.withrown(2000)\n",
    "print(count1.show())\n",
    "count1.withrown(4000)\n",
    "print(count1.show())\n"
   ]
  },
  {
   "cell_type": "code",
   "execution_count": null,
   "id": "bde914cc",
   "metadata": {},
   "outputs": [],
   "source": []
  }
 ],
 "metadata": {
  "kernelspec": {
   "display_name": "Python 3 (ipykernel)",
   "language": "python",
   "name": "python3"
  },
  "language_info": {
   "codemirror_mode": {
    "name": "ipython",
    "version": 3
   },
   "file_extension": ".py",
   "mimetype": "text/x-python",
   "name": "python",
   "nbconvert_exporter": "python",
   "pygments_lexer": "ipython3",
   "version": "3.10.9"
  }
 },
 "nbformat": 4,
 "nbformat_minor": 5
}
